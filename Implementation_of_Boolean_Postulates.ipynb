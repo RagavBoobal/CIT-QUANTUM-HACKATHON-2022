{
  "cells": [
    {
      "cell_type": "markdown",
      "metadata": {
        "id": "21895d52"
      },
      "source": [
        "**CIT QUANTUM HACKATHON 2022 QISKIT FALL FEST**\n",
        "\n",
        "**IDEA = IMPLEMENTING THE BOOLEAN POSULATES USING QUANTUM GATES**\n",
        "\n",
        "**TEAM MEMBERS = 1)BOOBALARAGAVAN.P,  2)VIJAY NARENDRAN.V,  3)ADITHYAN.A,  4)NAREN KARTHICK.T.P,  5)LAKSHMAN KARTHICK.T**"
      ],
      "id": "21895d52"
    },
    {
      "cell_type": "code",
      "source": [],
      "metadata": {
        "id": "JBiOYGY-QU7b"
      },
      "id": "JBiOYGY-QU7b",
      "execution_count": null,
      "outputs": []
    },
    {
      "cell_type": "code",
      "execution_count": 1,
      "metadata": {
        "colab": {
          "base_uri": "https://localhost:8080/"
        },
        "id": "VrqIg1xpttzM",
        "outputId": "1a215bd5-60bf-4bc0-d5e5-43b52e0df384"
      },
      "outputs": [
        {
          "output_type": "stream",
          "name": "stdout",
          "text": [
            "Looking in indexes: https://pypi.org/simple, https://us-python.pkg.dev/colab-wheels/public/simple/\n",
            "Collecting qiskit\n",
            "  Downloading qiskit-0.39.0.tar.gz (13 kB)\n",
            "Collecting qiskit-terra==0.22.0\n",
            "  Downloading qiskit_terra-0.22.0-cp37-cp37m-manylinux_2_17_x86_64.manylinux2014_x86_64.whl (4.7 MB)\n",
            "\u001b[K     |████████████████████████████████| 4.7 MB 5.0 MB/s \n",
            "\u001b[?25hCollecting qiskit-aer==0.11.0\n",
            "  Downloading qiskit_aer-0.11.0-cp37-cp37m-manylinux_2_17_x86_64.manylinux2014_x86_64.whl (19.2 MB)\n",
            "\u001b[K     |████████████████████████████████| 19.2 MB 1.1 MB/s \n",
            "\u001b[?25hCollecting qiskit-ibmq-provider==0.19.2\n",
            "  Downloading qiskit_ibmq_provider-0.19.2-py3-none-any.whl (240 kB)\n",
            "\u001b[K     |████████████████████████████████| 240 kB 62.6 MB/s \n",
            "\u001b[?25hRequirement already satisfied: scipy>=1.0 in /usr/local/lib/python3.7/dist-packages (from qiskit-aer==0.11.0->qiskit) (1.7.3)\n",
            "Requirement already satisfied: numpy>=1.16.3 in /usr/local/lib/python3.7/dist-packages (from qiskit-aer==0.11.0->qiskit) (1.21.6)\n",
            "Requirement already satisfied: requests>=2.19 in /usr/local/lib/python3.7/dist-packages (from qiskit-ibmq-provider==0.19.2->qiskit) (2.23.0)\n",
            "Collecting requests-ntlm>=1.1.0\n",
            "  Downloading requests_ntlm-1.1.0-py2.py3-none-any.whl (5.7 kB)\n",
            "Collecting websocket-client>=1.0.1\n",
            "  Downloading websocket_client-1.4.1-py3-none-any.whl (55 kB)\n",
            "\u001b[K     |████████████████████████████████| 55 kB 3.9 MB/s \n",
            "\u001b[?25hCollecting websockets>=10.0\n",
            "  Downloading websockets-10.3-cp37-cp37m-manylinux_2_5_x86_64.manylinux1_x86_64.manylinux_2_12_x86_64.manylinux2010_x86_64.whl (112 kB)\n",
            "\u001b[K     |████████████████████████████████| 112 kB 53.0 MB/s \n",
            "\u001b[?25hRequirement already satisfied: urllib3>=1.21.1 in /usr/local/lib/python3.7/dist-packages (from qiskit-ibmq-provider==0.19.2->qiskit) (1.24.3)\n",
            "Requirement already satisfied: python-dateutil>=2.8.0 in /usr/local/lib/python3.7/dist-packages (from qiskit-ibmq-provider==0.19.2->qiskit) (2.8.2)\n",
            "Requirement already satisfied: psutil>=5 in /usr/local/lib/python3.7/dist-packages (from qiskit-terra==0.22.0->qiskit) (5.4.8)\n",
            "Collecting stevedore>=3.0.0\n",
            "  Downloading stevedore-3.5.2-py3-none-any.whl (50 kB)\n",
            "\u001b[K     |████████████████████████████████| 50 kB 6.8 MB/s \n",
            "\u001b[?25hCollecting shared-memory38\n",
            "  Downloading shared_memory38-0.1.2-cp37-cp37m-manylinux_2_5_x86_64.manylinux1_x86_64.whl (25 kB)\n",
            "Requirement already satisfied: importlib-metadata<5.0 in /usr/local/lib/python3.7/dist-packages (from qiskit-terra==0.22.0->qiskit) (4.13.0)\n",
            "Requirement already satisfied: dill>=0.3 in /usr/local/lib/python3.7/dist-packages (from qiskit-terra==0.22.0->qiskit) (0.3.5.1)\n",
            "Collecting tweedledum<2.0,>=1.1\n",
            "  Downloading tweedledum-1.1.1-cp37-cp37m-manylinux_2_12_x86_64.manylinux2010_x86_64.whl (943 kB)\n",
            "\u001b[K     |████████████████████████████████| 943 kB 53.0 MB/s \n",
            "\u001b[?25hRequirement already satisfied: sympy>=1.3 in /usr/local/lib/python3.7/dist-packages (from qiskit-terra==0.22.0->qiskit) (1.7.1)\n",
            "Requirement already satisfied: typing-extensions in /usr/local/lib/python3.7/dist-packages (from qiskit-terra==0.22.0->qiskit) (4.1.1)\n",
            "Collecting retworkx>=0.11.0\n",
            "  Downloading retworkx-0.12.0-py3-none-any.whl (10 kB)\n",
            "Collecting ply>=3.10\n",
            "  Downloading ply-3.11-py2.py3-none-any.whl (49 kB)\n",
            "\u001b[K     |████████████████████████████████| 49 kB 7.1 MB/s \n",
            "\u001b[?25hCollecting symengine>=0.9\n",
            "  Downloading symengine-0.9.2-cp37-cp37m-manylinux2010_x86_64.whl (37.5 MB)\n",
            "\u001b[K     |████████████████████████████████| 37.5 MB 42 kB/s \n",
            "\u001b[?25hRequirement already satisfied: zipp>=0.5 in /usr/local/lib/python3.7/dist-packages (from importlib-metadata<5.0->qiskit-terra==0.22.0->qiskit) (3.9.0)\n",
            "Requirement already satisfied: six>=1.5 in /usr/local/lib/python3.7/dist-packages (from python-dateutil>=2.8.0->qiskit-ibmq-provider==0.19.2->qiskit) (1.15.0)\n",
            "Requirement already satisfied: chardet<4,>=3.0.2 in /usr/local/lib/python3.7/dist-packages (from requests>=2.19->qiskit-ibmq-provider==0.19.2->qiskit) (3.0.4)\n",
            "Requirement already satisfied: idna<3,>=2.5 in /usr/local/lib/python3.7/dist-packages (from requests>=2.19->qiskit-ibmq-provider==0.19.2->qiskit) (2.10)\n",
            "Requirement already satisfied: certifi>=2017.4.17 in /usr/local/lib/python3.7/dist-packages (from requests>=2.19->qiskit-ibmq-provider==0.19.2->qiskit) (2022.9.24)\n",
            "Collecting ntlm-auth>=1.0.2\n",
            "  Downloading ntlm_auth-1.5.0-py2.py3-none-any.whl (29 kB)\n",
            "Collecting cryptography>=1.3\n",
            "  Downloading cryptography-38.0.1-cp36-abi3-manylinux_2_24_x86_64.whl (4.0 MB)\n",
            "\u001b[K     |████████████████████████████████| 4.0 MB 45.6 MB/s \n",
            "\u001b[?25hRequirement already satisfied: cffi>=1.12 in /usr/local/lib/python3.7/dist-packages (from cryptography>=1.3->requests-ntlm>=1.1.0->qiskit-ibmq-provider==0.19.2->qiskit) (1.15.1)\n",
            "Requirement already satisfied: pycparser in /usr/local/lib/python3.7/dist-packages (from cffi>=1.12->cryptography>=1.3->requests-ntlm>=1.1.0->qiskit-ibmq-provider==0.19.2->qiskit) (2.21)\n",
            "Collecting rustworkx==0.12.0\n",
            "  Downloading rustworkx-0.12.0-cp37-cp37m-manylinux_2_17_x86_64.manylinux2014_x86_64.whl (1.9 MB)\n",
            "\u001b[K     |████████████████████████████████| 1.9 MB 48.1 MB/s \n",
            "\u001b[?25hCollecting pbr!=2.1.0,>=2.0.0\n",
            "  Downloading pbr-5.11.0-py2.py3-none-any.whl (112 kB)\n",
            "\u001b[K     |████████████████████████████████| 112 kB 59.2 MB/s \n",
            "\u001b[?25hRequirement already satisfied: mpmath>=0.19 in /usr/local/lib/python3.7/dist-packages (from sympy>=1.3->qiskit-terra==0.22.0->qiskit) (1.2.1)\n",
            "Building wheels for collected packages: qiskit\n",
            "  Building wheel for qiskit (setup.py) ... \u001b[?25l\u001b[?25hdone\n",
            "  Created wheel for qiskit: filename=qiskit-0.39.0-py3-none-any.whl size=12188 sha256=ee2e708b2618b0d493a565657875b06de7121f87b02660b6adfce085f0f4a8ab\n",
            "  Stored in directory: /root/.cache/pip/wheels/63/d0/9a/257143dfc211b1732e1dadf41f281d477251d9cc0108a6f209\n",
            "Successfully built qiskit\n",
            "Installing collected packages: rustworkx, pbr, tweedledum, symengine, stevedore, shared-memory38, retworkx, ply, ntlm-auth, cryptography, websockets, websocket-client, requests-ntlm, qiskit-terra, qiskit-ibmq-provider, qiskit-aer, qiskit\n",
            "Successfully installed cryptography-38.0.1 ntlm-auth-1.5.0 pbr-5.11.0 ply-3.11 qiskit-0.39.0 qiskit-aer-0.11.0 qiskit-ibmq-provider-0.19.2 qiskit-terra-0.22.0 requests-ntlm-1.1.0 retworkx-0.12.0 rustworkx-0.12.0 shared-memory38-0.1.2 stevedore-3.5.2 symengine-0.9.2 tweedledum-1.1.1 websocket-client-1.4.1 websockets-10.3\n"
          ]
        }
      ],
      "source": [
        "pip install qiskit"
      ],
      "id": "VrqIg1xpttzM"
    },
    {
      "cell_type": "code",
      "source": [
        "pip install matplotlib"
      ],
      "metadata": {
        "colab": {
          "base_uri": "https://localhost:8080/"
        },
        "id": "No60IMsVh9Wy",
        "outputId": "ea499680-89b6-44d1-d359-40b1b4f49262"
      },
      "id": "No60IMsVh9Wy",
      "execution_count": 2,
      "outputs": [
        {
          "output_type": "stream",
          "name": "stdout",
          "text": [
            "Looking in indexes: https://pypi.org/simple, https://us-python.pkg.dev/colab-wheels/public/simple/\n",
            "Requirement already satisfied: matplotlib in /usr/local/lib/python3.7/dist-packages (3.2.2)\n",
            "Requirement already satisfied: pyparsing!=2.0.4,!=2.1.2,!=2.1.6,>=2.0.1 in /usr/local/lib/python3.7/dist-packages (from matplotlib) (3.0.9)\n",
            "Requirement already satisfied: numpy>=1.11 in /usr/local/lib/python3.7/dist-packages (from matplotlib) (1.21.6)\n",
            "Requirement already satisfied: cycler>=0.10 in /usr/local/lib/python3.7/dist-packages (from matplotlib) (0.11.0)\n",
            "Requirement already satisfied: kiwisolver>=1.0.1 in /usr/local/lib/python3.7/dist-packages (from matplotlib) (1.4.4)\n",
            "Requirement already satisfied: python-dateutil>=2.1 in /usr/local/lib/python3.7/dist-packages (from matplotlib) (2.8.2)\n",
            "Requirement already satisfied: typing-extensions in /usr/local/lib/python3.7/dist-packages (from kiwisolver>=1.0.1->matplotlib) (4.1.1)\n",
            "Requirement already satisfied: six>=1.5 in /usr/local/lib/python3.7/dist-packages (from python-dateutil>=2.1->matplotlib) (1.15.0)\n"
          ]
        }
      ]
    },
    {
      "cell_type": "code",
      "source": [
        "pip install pylatexenc"
      ],
      "metadata": {
        "colab": {
          "base_uri": "https://localhost:8080/"
        },
        "id": "I3SSc2XTdw4J",
        "outputId": "45ae546e-cc28-4d4d-ce30-e0b8986d7d65"
      },
      "id": "I3SSc2XTdw4J",
      "execution_count": 3,
      "outputs": [
        {
          "output_type": "stream",
          "name": "stdout",
          "text": [
            "Looking in indexes: https://pypi.org/simple, https://us-python.pkg.dev/colab-wheels/public/simple/\n",
            "Collecting pylatexenc\n",
            "  Downloading pylatexenc-2.10.tar.gz (162 kB)\n",
            "\u001b[K     |████████████████████████████████| 162 kB 5.1 MB/s \n",
            "\u001b[?25hBuilding wheels for collected packages: pylatexenc\n",
            "  Building wheel for pylatexenc (setup.py) ... \u001b[?25l\u001b[?25hdone\n",
            "  Created wheel for pylatexenc: filename=pylatexenc-2.10-py3-none-any.whl size=136835 sha256=0f785b4401617b722d70384406ad73ed99acbe2ef4f68528f30a76a9f7fa6c69\n",
            "  Stored in directory: /root/.cache/pip/wheels/f1/8a/f5/33ee79d4473eb201b519fa40f989b842e373237395a3421f52\n",
            "Successfully built pylatexenc\n",
            "Installing collected packages: pylatexenc\n",
            "Successfully installed pylatexenc-2.10\n"
          ]
        }
      ]
    },
    {
      "cell_type": "code",
      "execution_count": null,
      "metadata": {
        "id": "JwJj166CtLmJ"
      },
      "outputs": [],
      "source": [
        "\n"
      ],
      "id": "JwJj166CtLmJ"
    },
    {
      "cell_type": "markdown",
      "metadata": {
        "id": "31a12b16"
      },
      "source": [
        "DISJUNCTION[OR GATE]:-\n",
        "    1) A+B = C\n",
        "\n",
        "CONJUNCTION[AND GATE]:-\n",
        "    1) A.B = C\n",
        "    \n",
        "IDENTITY LAW:-\n",
        "    1) A+0 = A\n",
        "    2) A.1 = A\n",
        "    \n",
        "ANNULMENT LAW:-\n",
        "    1) A+1 = A\n",
        "    2) A.0 = 0\n",
        "    \n",
        "IDEMPOTENT LAW:-\n",
        "    1) A+A = A\n",
        "    2) A.A = A\n",
        "\n",
        "INVERSE LAW[NEGOTIATION]:- \n",
        "    1) Not(A) = A'\n",
        "\n",
        "DOUBLE INVERSE LAW[DOUBLE NEGOTIATION]:-\n",
        "    1) A'' = A\n",
        "\n",
        "COMPLEMENT LAW:-\n",
        "    1) A+A' = 1\n",
        "    2) A.A' = 0\n",
        "    \n",
        "COMMUTATIVE LAW:- \n",
        "    1) A.B = B.A \n",
        "    2) A+B = B+A\n",
        "\n",
        "ASSOCIATIVE LAW:-\n",
        "    1) (A.B).C = A.(B.C)\n",
        "    2) (A+B)+C = A+(B+C)\n",
        "\n",
        "DISTRIBUTIVE LAW:-\n",
        "    1) A.(B+C) = (A.B)+(A.C)\n",
        "    2) A+(B.C) = (A+B).(A+C)\n",
        "    \n",
        "ABSORPTION LAW:-\n",
        "    1) B+(B.A) = B\n",
        "    2) B.(B+A) = B\n",
        "\n",
        "DE-MORGANs THEOREM:-\n",
        "    1) (A.B)' = A'+B'\n",
        "    2) (A+B)' = A'.B'\n",
        "    \n",
        "TRANSPOSITION THEOREM:-\n",
        "    1) AB + A'C = (A + C) (A' + B)\n",
        "    \n",
        "REDUNDANCY THEOREM:-\n",
        "    1) AB + BC' + AC = AC + BC' \n",
        "    \n",
        "DUALITY THEOREM:-\n",
        "    1) A(B+C) = A+(B.C) = (A+B)(A+C)\n",
        "    \n",
        "COMPLEMENTARY THEOREM:-\n",
        "    1) A(B+C) = A'+(B'.C') = (A'+B')(A'+C')\n",
        "\n",
        "KARNAUGH-MAP[K-MAP]:-\n",
        "    1) SUM OF PRODUCTS[SOP] =>  F = X’Y’Z + X’YZ’ + X’YZ + XY’Z\n",
        "    2) PRODUCTS OF SUM[POS] =>  F = (X+Y+Z) (X’+Y+Z)(X’+Y’+Z)(X’+Y’+Z’)"
      ],
      "id": "31a12b16"
    },
    {
      "cell_type": "code",
      "execution_count": null,
      "metadata": {
        "id": "b5c62d28"
      },
      "outputs": [],
      "source": [],
      "id": "b5c62d28"
    },
    {
      "cell_type": "code",
      "execution_count": 6,
      "metadata": {
        "id": "ed830af7"
      },
      "outputs": [],
      "source": [
        "def visualizationsOutputReport(qc, output):\n",
        "  visualizationList = {'1':'QSPHERE REPRESENTATION','2':'BLOCH SPHERE REPRESENTATION','3':'BLOCH VECTOR REPRESENTATION','4':'STATE CITY REPRESENTATION','5':'STATE PAULIVEC REPRESENTATION','6':'STATE HINTON REPRESENTATION','7':'EXIT'}\n",
        "  for key, value in visualizationList.items():\n",
        "    print(key, ' ', value)\n",
        "  print(\"\\t\\t\\tPlease Enter the Visualization Choice : \")\n",
        "  visualizationChoice = input()\n",
        "  if visualizationChoice == \"1\":\n",
        "    qc.draw()\n",
        "    plot_state_qsphere(qc)\n",
        "  elif visualizationChoice == \"2\":\n",
        "    plot_bloch_multivector(qc)\n",
        "  elif visualizationChoice == \"3\":\n",
        "    plot_bloch_multivector(qc)\n",
        "  elif visualizationChoice == \"4\":\n",
        "    plot_state_city(qc)\n",
        "  elif visualizationChoice == \"5\":\n",
        "    plot_state_paulivec(qc)\n",
        "  elif visualizationChoice == \"6\":\n",
        "    plot_state_hinton(qc)\n",
        "  elif visualizationChoice == \"7\":\n",
        "    exit()\n",
        "  else:\n",
        "    print(\"\\n\\t\\t\\tERROR : PLEASE ENTER THE CORRECT CHOICE\\n\\n\\n\")\n",
        "    visualizationsOutputReport(qc, output)\n",
        "\n",
        "\n",
        "\n",
        "\n",
        "  "
      ],
      "id": "ed830af7"
    },
    {
      "cell_type": "code",
      "execution_count": 7,
      "metadata": {
        "id": "648b7c70"
      },
      "outputs": [],
      "source": [
        "def outputReport(qc, output, inp1, inp2):\n",
        "  print(\"\\t\\n\\n OUTPUT REPORT\")\n",
        "  outputList = {'1':'STATEVECTOR OUTPUT','2':'QUANTUM CIRCUIT','3':'TRUTH TABLE','4':'VISUALIZATIONS','5':'EXIT'}\n",
        "  for key, value in outputList.items():\n",
        "    print(key, ' ', value)\n",
        "  print(\"\\t\\t\\tPlease Enter the Output Choice : \")\n",
        "  outputChoice = input()\n",
        "  if outputChoice == \"1\":\n",
        "    S_Simulator = Aer.backends(name = 'statevector_simulator')[0]\n",
        "    job = execute(qc, S_Simulator)\n",
        "    result = job.result()\n",
        "    print(\"\\n\\n STATE VECTOR OUTPUT IS : \", result.get_statevector())\n",
        "  elif outputChoice == \"2\":\n",
        "    print(\"\\n\\n QUANTUM CIRCUIT IS : \\n\")\n",
        "    display(qc.draw('mpl'))\n",
        "  elif outputChoice == \"3\":\n",
        "    print(\"\\n\\n INPUTS AS \", inp1, \" & \", inp2,\" GIVES OUTPUT \", output)\n",
        "  elif outputChoice == \"4\":\n",
        "      visualizationsOutputReport(qc, output)\n",
        "  elif outputChoice == \"5\":\n",
        "      exit()\n",
        "  else:\n",
        "    print(\"\\n\\t\\t\\tERROR : PLEASE ENTER THE CORRECT CHOICE\\n\\n\\n\")\n",
        "    outputReport(qc, output, inp1, inp2)\n",
        "\n",
        "        "
      ],
      "id": "648b7c70"
    },
    {
      "cell_type": "code",
      "source": [
        "#APPLYING NOT GATE FOR WHOLE CIRCUIT\n",
        "def notGateCircuit(qc):\n",
        "  qc.x()\n",
        "  return qc"
      ],
      "metadata": {
        "id": "V5VaQg4c_DGE"
      },
      "id": "V5VaQg4c_DGE",
      "execution_count": 8,
      "outputs": []
    },
    {
      "cell_type": "code",
      "source": [
        "#DOUBLE INVERSE LAW\n",
        "def doubleInverseLaw(inp1):\n",
        "    qc = QuantumCircuit(1, 1) \n",
        "    qc.reset(range(2))\n",
        "    qc.barrier()\n",
        "    qc.x(0)\n",
        "    qc.x(0)\n",
        "    qc.barrier()\n",
        "    qc.measure(1, 0) \n",
        "    backend = Aer.get_backend('aer_simulator')\n",
        "    job = backend.run(qc, shots=1, memory=True)\n",
        "    output = job.result().get_memory()[0]\n",
        "    return qc, output"
      ],
      "metadata": {
        "id": "kan-cBwNUKf_"
      },
      "id": "kan-cBwNUKf_",
      "execution_count": 9,
      "outputs": []
    },
    {
      "cell_type": "code",
      "source": [
        "#NOT GATE\n",
        "def notGate(inp1):\n",
        "    qc = QuantumCircuit(1, 1) \n",
        "    qc.reset(range(2))\n",
        "    qc.barrier()\n",
        "    qc.x(0)\n",
        "    qc.barrier()\n",
        "    qc.measure(1, 0) \n",
        "    backend = Aer.get_backend('aer_simulator')\n",
        "    job = backend.run(qc, shots=1, memory=True)\n",
        "    output = job.result().get_memory()[0]\n",
        "    return qc, output"
      ],
      "metadata": {
        "id": "r4uyj8PVTG2t"
      },
      "id": "r4uyj8PVTG2t",
      "execution_count": 10,
      "outputs": []
    },
    {
      "cell_type": "code",
      "execution_count": 11,
      "metadata": {
        "id": "f19d0d9e"
      },
      "outputs": [],
      "source": [
        "#AND GATE\n",
        "def andGate(inp1,inp2):\n",
        "    qc = QuantumCircuit(3, 1) \n",
        "    qc.reset(range(2))\n",
        "    if inp1=='1':\n",
        "        qc.x(0)\n",
        "    if inp2=='1':\n",
        "        qc.x(1)\n",
        "    qc.barrier()\n",
        "    qc.ccx(0,1,2)\n",
        "    qc.barrier()\n",
        "    qc.measure(2, 0) \n",
        "    backend = Aer.get_backend('aer_simulator')\n",
        "    job = backend.run(qc, shots=1, memory=True)\n",
        "    output = job.result().get_memory()[0]\n",
        "    return qc, output"
      ],
      "id": "f19d0d9e"
    },
    {
      "cell_type": "code",
      "execution_count": 12,
      "metadata": {
        "id": "a7c77081"
      },
      "outputs": [],
      "source": [
        "#OR GATE\n",
        "def orGate(inp1,inp2):\n",
        "    qc = QuantumCircuit(3, 1) \n",
        "    qc.reset(range(2))\n",
        "    if inp1=='1':\n",
        "        qc.x(0)\n",
        "    if inp2=='1':\n",
        "        qc.x(1)\n",
        "    qc.barrier()\n",
        "    qc.cx(1,2)\n",
        "    qc.cx(0,1)\n",
        "    qc.ccx(0,1,2)\n",
        "    qc.barrier()\n",
        "    qc.measure(2, 0) \n",
        "    backend = Aer.get_backend('aer_simulator')\n",
        "    job = backend.run(qc, shots=1, memory=True)\n",
        "    output = job.result().get_memory()[0]\n",
        "    return qc, output"
      ],
      "id": "a7c77081"
    },
    {
      "cell_type": "code",
      "execution_count": 13,
      "metadata": {
        "id": "dc055d47"
      },
      "outputs": [],
      "source": [
        "#KARNAUGH MAP\n",
        "def karnaughMap():\n",
        "    print(\"FUTURE ENHANCEMENT\")"
      ],
      "id": "dc055d47"
    },
    {
      "cell_type": "code",
      "execution_count": 14,
      "metadata": {
        "id": "f85c7ddd"
      },
      "outputs": [],
      "source": [
        "#COMPLEMENT THEOREM\n",
        "def complementTheorem():\n",
        "    print(\"FUTURE ENHANCEMENT\")"
      ],
      "id": "f85c7ddd"
    },
    {
      "cell_type": "code",
      "execution_count": 15,
      "metadata": {
        "id": "a48b986d"
      },
      "outputs": [],
      "source": [
        "#DUALITY THEOREM\n",
        "def dualityTheorem():\n",
        "    print(\"FUTURE ENHANCEMENT\")"
      ],
      "id": "a48b986d"
    },
    {
      "cell_type": "code",
      "execution_count": 16,
      "metadata": {
        "id": "94e5d30f"
      },
      "outputs": [],
      "source": [
        "#REDUNDANCY THEOREM\n",
        "def redundancyTheorem():\n",
        "    print(\"FUTURE ENHANCEMENT\")"
      ],
      "id": "94e5d30f"
    },
    {
      "cell_type": "code",
      "execution_count": 17,
      "metadata": {
        "id": "f71a90cd"
      },
      "outputs": [],
      "source": [
        "#TRANSPOSITION THEOREM\n",
        "def transpositionTheorem():\n",
        "    print(\"FUTURE ENHANCEMENT\")"
      ],
      "id": "f71a90cd"
    },
    {
      "cell_type": "code",
      "execution_count": 18,
      "metadata": {
        "id": "aa5af3e3"
      },
      "outputs": [],
      "source": [
        "#DE-MORGAN'S THEOREM\n",
        "def deMorgansTheorem():\n",
        "  print(\"DE MORGAN'S => ( A . B )' = A' + B'\")\n",
        "  for inp1 in ['0', '1']:\n",
        "    for inp2 in ['0', '1']:\n",
        "      qc,output = andGate(inp1, inp2)\n",
        "      qc = notGateCircuit(qc)\n",
        "      outputReport(qc, output, inp1, inp2)\n",
        "  for inp1 in ['0', '1']:\n",
        "    for inp2 in ['0', '1']:\n",
        "      if inp1 == '0':\n",
        "        inp1 = '1'\n",
        "      else:\n",
        "        inp1 = '0'\n",
        "      if inp2 == '0':\n",
        "        inp2 = '1'\n",
        "      else:\n",
        "        inp2 = '0'\n",
        "      qc,output = andGate(inp1, inp2)\n",
        "      outputReport(qc, output, inp1, inp2)\n",
        "  print(\"DE MORGAN'S => ( A + B )' = A' + B'\")\n",
        "  for inp1 in ['0', '1']:\n",
        "    for inp2 in ['0', '1']:\n",
        "      qc,output = andGate(inp1, inp2)\n",
        "      qc = notGateCircuit(qc)\n",
        "      outputReport(qc, output, inp1, inp2)\n",
        "  for inp1 in ['0', '1']:\n",
        "    for inp2 in ['0', '1']:\n",
        "      if inp1 == '0':\n",
        "        inp1 = '1'\n",
        "      else:\n",
        "        inp1 = '0'\n",
        "      if inp2 == '0':\n",
        "        inp2 = '1'\n",
        "      else:\n",
        "        inp2 = '0'\n",
        "      qc,output = andGate(inp1, inp2)\n",
        "      outputReport(qc, output, inp1, inp2)"
      ],
      "id": "aa5af3e3"
    },
    {
      "cell_type": "code",
      "source": [
        "#ABSORPTION LAW\n",
        "def absorptionLaw():\n",
        "    print(1)"
      ],
      "metadata": {
        "id": "xT29ZDF4TYoM"
      },
      "id": "xT29ZDF4TYoM",
      "execution_count": 19,
      "outputs": []
    },
    {
      "cell_type": "code",
      "source": [
        "#DISTRIBUTIVE LAW\n",
        "def distributiveLaw():\n",
        "    print(\"FUTURE ENHANCEMENT\")"
      ],
      "metadata": {
        "id": "th1cs3HTT9Ax"
      },
      "id": "th1cs3HTT9Ax",
      "execution_count": 20,
      "outputs": []
    },
    {
      "cell_type": "code",
      "source": [
        "#ASSOCIATIVE LAW\n",
        "def associativeLaw():\n",
        "  print(\"FUTURE ENHANCEMENT\")\n",
        "  "
      ],
      "metadata": {
        "id": "9r6OCE0zT9D2"
      },
      "id": "9r6OCE0zT9D2",
      "execution_count": 21,
      "outputs": []
    },
    {
      "cell_type": "code",
      "source": [
        "#COMMUTATIVE LAW\n",
        "def commutativeLaw():\n",
        "  print(\"COMMUTATIVE LAW 1 => A . B = B . A\")\n",
        "  for inp1 in ['0', '1']:\n",
        "    for inp2 in ['0', '1']:\n",
        "      qc,output = andGate(inp1, inp2)\n",
        "      outputReport(qc, output, inp1, inp2)\n",
        "  for inp1 in ['0', '1']:\n",
        "    for inp2 in ['0', '1']:\n",
        "      qc,output = andGate(inp2, inp1)\n",
        "      outputReport(qc, output, inp2, inp1)\n",
        "  print(\"COMMUTATIVE LAW 2 => A + B = B + A\")\n",
        "  for inp1 in ['0', '1']:\n",
        "    for inp2 in ['0', '1']:\n",
        "      qc,output = andGate(inp1, inp2)\n",
        "      outputReport(qc, output, inp1, inp2)\n",
        "  for inp1 in ['0', '1']:\n",
        "    for inp2 in ['0', '1']:\n",
        "      qc,output = andGate(inp2, inp1)\n",
        "      outputReport(qc, output, inp2, inp1)\n",
        "\n",
        "  "
      ],
      "metadata": {
        "id": "K9DJbLDzT9Ow"
      },
      "id": "K9DJbLDzT9Ow",
      "execution_count": 22,
      "outputs": []
    },
    {
      "cell_type": "code",
      "source": [
        "#COMPLEMENT LAW\n",
        "def complementLaw():\n",
        "  print(\"COMPLEMENT LAW 1  =>  A + A' = 1\")\n",
        "  for A in ['0', '1']:\n",
        "    if A == '0':\n",
        "      inp1 = '1'\n",
        "    else:\n",
        "      inp1 = '0'\n",
        "    qc,output = orGate(A, inp1)\n",
        "    outputReport(qc, output, A, inp1)\n",
        "  print(\"COMPLEMENT LAW 2  =>  A . A' = A\")\n",
        "  for A in ['0', '1']:\n",
        "    if A == '0':\n",
        "      inp2 = '1'\n",
        "    else:\n",
        "      inp2 = '0'\n",
        "    qc,output = andGate(A, inp2)\n",
        "    outputReport(qc, output, A, inp2)\n",
        "    "
      ],
      "metadata": {
        "id": "fcDvUgQST9Su"
      },
      "id": "fcDvUgQST9Su",
      "execution_count": 23,
      "outputs": []
    },
    {
      "cell_type": "code",
      "source": [
        "#DOUBLE INVERSE LAW\n",
        "def doubleInverseLaw():\n",
        "  print(\"INVERSE LAW  =>  NOT(A) = A'\")\n",
        "  for A in ['0', '1']:\n",
        "    qc,output = doubleInverseLaw(A)\n",
        "    outputReport(qc, output, A, A)"
      ],
      "metadata": {
        "id": "f2LRRt6eTY0G"
      },
      "id": "f2LRRt6eTY0G",
      "execution_count": 25,
      "outputs": []
    },
    {
      "cell_type": "code",
      "source": [
        "#INVERSE LAW\n",
        "def inverseLaw():\n",
        "  print(\"INVERSE LAW  =>  NOT(A) = A'\")\n",
        "  for A in ['0', '1']:\n",
        "    qc,output = notGate(A)\n",
        "    outputReport(qc, output, A , A)"
      ],
      "metadata": {
        "id": "KUCZUCJuTY-z"
      },
      "id": "KUCZUCJuTY-z",
      "execution_count": 24,
      "outputs": []
    },
    {
      "cell_type": "code",
      "source": [
        "#IDEMPOTENT LAW\n",
        "def idempotentLaw():\n",
        "  print(\"IDEMPOTENT LAW 1  =>  A + A = A\")\n",
        "  for A in ['0', '1']:\n",
        "    qc,output = orGate(A, A)\n",
        "    outputReport(qc, output, A, A)\n",
        "  print(\"IDEMPOTENT LAW 2  =>  A . A = A\")\n",
        "  for A in ['0', '1']:\n",
        "    qc,output = andGate(A, A)\n",
        "    outputReport(qc, output, A, A)"
      ],
      "metadata": {
        "id": "glCcuxQzTZJX"
      },
      "id": "glCcuxQzTZJX",
      "execution_count": 26,
      "outputs": []
    },
    {
      "cell_type": "code",
      "source": [
        "#ANNULMENT LAW\n",
        "def annulmentLaw():\n",
        "  print(\"ANNULMENT LAW 1  =>  A + 1 = A\")\n",
        "  inp2 = 1\n",
        "  for A in ['0', '1']:\n",
        "    qc,output = orGate(A, inp2)\n",
        "    outputReport(qc, output, A, inp2)\n",
        "  print(\"ANNULMENT LAW 2  =>  A . 0 = 0\")\n",
        "  inp2 = 0\n",
        "  for A in ['0', '1']:\n",
        "    qc,output = andGate(A, inp2)\n",
        "    outputReport(qc, output, A, inp2)"
      ],
      "metadata": {
        "id": "tNcyEsaiTZTk"
      },
      "id": "tNcyEsaiTZTk",
      "execution_count": 27,
      "outputs": []
    },
    {
      "cell_type": "code",
      "source": [
        "#IDENTITY LAW\n",
        "def identityLaw():\n",
        "  print(\"IDENTITY LAW 1  =>  A + 0 = A\")\n",
        "  inp2 = 0\n",
        "  for A in ['0', '1']:\n",
        "    qc,output = orGate(A, inp2)\n",
        "    outputReport(qc, output, A, inp2)\n",
        "  print(\"IDENTITY LAW 2  =>  A . 1= A\")\n",
        "  inp2 = 1\n",
        "  for A in ['0', '1']:\n",
        "    qc,output = andGate(A, inp2)\n",
        "    outputReport(qc, output, A, inp2)"
      ],
      "metadata": {
        "id": "f_uqQEOvSz7U"
      },
      "id": "f_uqQEOvSz7U",
      "execution_count": 28,
      "outputs": []
    },
    {
      "cell_type": "code",
      "source": [
        "#CONJUNCTION [AND]\n",
        "def conjunction():\n",
        "  print(\"CONJUCTION A . B = C\")\n",
        "  for inp1 in ['0', '1']:\n",
        "    for inp2 in ['0', '1']:\n",
        "      qc,output = andGate(inp1, inp2)\n",
        "      outputReport(qc, output, inp1, inp2)\n",
        "    "
      ],
      "metadata": {
        "id": "WI1ba77VSqhy"
      },
      "id": "WI1ba77VSqhy",
      "execution_count": 29,
      "outputs": []
    },
    {
      "cell_type": "code",
      "source": [
        "#DISJUNCTION [OR]\n",
        "def disjunction():\n",
        "  print(\"DISJUNCTION A + B = C\")\n",
        "  for inp1 in ['0', '1']:\n",
        "    for inp2 in ['0', '1']:\n",
        "      qc,output = orGate(inp1, inp2)\n",
        "      outputReport(qc, output, inp1, inp2)"
      ],
      "metadata": {
        "id": "zJ5IAzHESgcE"
      },
      "id": "zJ5IAzHESgcE",
      "execution_count": 30,
      "outputs": []
    },
    {
      "cell_type": "code",
      "source": [
        "def implementation(choice):\n",
        "    if choice == \"1\":\n",
        "        disjunction()\n",
        "    elif choice == \"2\":\n",
        "        conjunction()\n",
        "    elif choice == \"3\":\n",
        "        identityLaw()\n",
        "    elif choice == \"4\":\n",
        "        annulmentLaw()\n",
        "    elif choice == \"5\":\n",
        "        idempotentLaw()\n",
        "    elif choice == \"6\":\n",
        "        inverseLaw()\n",
        "    elif choice == \"7\":\n",
        "        doubleInverseLaw()\n",
        "    elif choice == \"8\":\n",
        "        complementLaw()\n",
        "    elif choice == \"9\":\n",
        "        commutativeLaw()\n",
        "    elif choice == \"10\":\n",
        "        associativeLaw()\n",
        "    elif choice == \"11\":\n",
        "        distributiveLaw()\n",
        "    elif choice == \"12\":\n",
        "        absorptionLaw()\n",
        "    elif choice == \"13\":\n",
        "        deMorgansTheorem()\n",
        "    elif choice == \"14\":\n",
        "        transpositionTheorem()\n",
        "    elif choice == \"15\":\n",
        "        redundancyTheorem()\n",
        "    elif choice == \"16\":\n",
        "        dualityTheorem()\n",
        "    elif choice == \"17\":\n",
        "        complementTheorem()\n",
        "    elif choice == \"18\":\n",
        "        karnaughMap()\n",
        "    elif choice == \"19\":\n",
        "        exit()\n",
        "    else:\n",
        "        print(\"\\n\\t\\t\\tERROR : PLEASE ENTER THE CORRECT CHOICE\\n\\n\\n\")\n",
        "        posulatesSelection()\n"
      ],
      "metadata": {
        "id": "Y4RsZ_B2Riuh"
      },
      "id": "Y4RsZ_B2Riuh",
      "execution_count": 31,
      "outputs": []
    },
    {
      "cell_type": "code",
      "source": [
        "def posulatesSelection():\n",
        "    BooleanPosulates = {'1':'DISJUNCTION','2':'CONJUNCTION','3':'IDENTITY LAW','4':'ANNULMENT LAW','5':'IDEMPOTENT LAW','6':'INVERSE LAW[NEGOTIATION]', '7':'DOUBLE INVERSE LAW[DOUBLE NEGOTIATION]','8':'COMPLEMENT LAW','9':'COMMUTATIVE LAW','10':'ASSOCIATIVE LAW','11':'DISTRIBUTIVE LAW','12':'ABSORPTION LAW','13':'DE-MORGANs THEOREM','14':'TRANSPOSITION THEOREM','15':'REDUNDANCY THEOREM','16':'DUALITY THEOREM','17':'COMPLEMENTARY THEOREM','18':'KARNAUGH-MAP','19':'EXIT'}\n",
        "    for key, value in BooleanPosulates.items():\n",
        "        print(key, ' ', value)\n",
        "    print(\"\\t\\t\\tPlease Enter the Choice : \")\n",
        "    choice = input()\n",
        "    implementation(choice)"
      ],
      "metadata": {
        "id": "pAULMCfejqhe"
      },
      "id": "pAULMCfejqhe",
      "execution_count": 32,
      "outputs": []
    },
    {
      "cell_type": "code",
      "source": [
        "def intro():\n",
        "    print(\"\\t\\tIMPLEMENTATION OF BOOLEAN POSULATES\\n\\n\")"
      ],
      "metadata": {
        "id": "ZxQ6LoA9jlOR"
      },
      "id": "ZxQ6LoA9jlOR",
      "execution_count": 33,
      "outputs": []
    },
    {
      "cell_type": "code",
      "execution_count": 34,
      "metadata": {
        "id": "0e83fda4",
        "colab": {
          "base_uri": "https://localhost:8080/",
          "height": 1000
        },
        "outputId": "bf3f9102-d289-4cc8-90b6-d3baf9e11a71"
      },
      "outputs": [
        {
          "output_type": "stream",
          "name": "stdout",
          "text": [
            "\t\tIMPLEMENTATION OF BOOLEAN POSULATES\n",
            "\n",
            "\n",
            "1   DISJUNCTION\n",
            "2   CONJUNCTION\n",
            "3   IDENTITY LAW\n",
            "4   ANNULMENT LAW\n",
            "5   IDEMPOTENT LAW\n",
            "6   INVERSE LAW[NEGOTIATION]\n",
            "7   DOUBLE INVERSE LAW[DOUBLE NEGOTIATION]\n",
            "8   COMPLEMENT LAW\n",
            "9   COMMUTATIVE LAW\n",
            "10   ASSOCIATIVE LAW\n",
            "11   DISTRIBUTIVE LAW\n",
            "12   ABSORPTION LAW\n",
            "13   DE-MORGANs THEOREM\n",
            "14   TRANSPOSITION THEOREM\n",
            "15   REDUNDANCY THEOREM\n",
            "16   DUALITY THEOREM\n",
            "17   COMPLEMENTARY THEOREM\n",
            "18   KARNAUGH-MAP\n",
            "19   EXIT\n",
            "\t\t\tPlease Enter the Choice : \n",
            "1\n",
            "DISJUNCTION A + B = C\n",
            "\t\n",
            "\n",
            " OUTPUT REPORT\n",
            "1   STATEVECTOR OUTPUT\n",
            "2   QUANTUM CIRCUIT\n",
            "3   TRUTH TABLE\n",
            "4   VISUALIZATIONS\n",
            "5   EXIT\n",
            "\t\t\tPlease Enter the Output Choice : \n",
            "2\n",
            "\n",
            "\n",
            " QUANTUM CIRCUIT IS : \n",
            "\n"
          ]
        },
        {
          "output_type": "display_data",
          "data": {
            "text/plain": [
              "<Figure size 507.997x264.88 with 1 Axes>"
            ],
            "image/png": "[encoded data removed]"
          },
          "metadata": {}
        },
        {
          "name": "stdout",
          "output_type": "stream",
          "text": [
            "\t\n",
            "\n",
            " OUTPUT REPORT\n",
            "1   STATEVECTOR OUTPUT\n",
            "2   QUANTUM CIRCUIT\n",
            "3   TRUTH TABLE\n",
            "4   VISUALIZATIONS\n",
            "5   EXIT\n",
            "\t\t\tPlease Enter the Output Choice : \n",
            "3\n",
            "\n",
            "\n",
            " INPUTS AS  0  &  1  GIVES OUTPUT  1\n",
            "\t\n",
            "\n",
            " OUTPUT REPORT\n",
            "1   STATEVECTOR OUTPUT\n",
            "2   QUANTUM CIRCUIT\n",
            "3   TRUTH TABLE\n",
            "4   VISUALIZATIONS\n",
            "5   EXIT\n",
            "\t\t\tPlease Enter the Output Choice : \n",
            "1\n",
            "\n",
            "\n",
            " STATE VECTOR OUTPUT IS :  Statevector([0.+0.j, 0.+0.j, 0.+0.j, 0.+0.j, 0.+0.j, 0.+0.j, 0.+0.j,\n",
            "             1.+0.j],\n",
            "            dims=(2, 2, 2))\n",
            "\t\n",
            "\n",
            " OUTPUT REPORT\n",
            "1   STATEVECTOR OUTPUT\n",
            "2   QUANTUM CIRCUIT\n",
            "3   TRUTH TABLE\n",
            "4   VISUALIZATIONS\n",
            "5   EXIT\n",
            "\t\t\tPlease Enter the Output Choice : \n",
            "5\n"
          ]
        }
      ],
      "source": [
        "#DRIVER CODE\n",
        "\n",
        "from qiskit import *\n",
        "from qiskit.tools.jupyter import *\n",
        "from qiskit.visualization import *\n",
        "from pylatexenc import *\n",
        "import matplotlib\n",
        "import sys\n",
        "\n",
        "intro()\n",
        "posulatesSelection()"
      ],
      "id": "0e83fda4"
    },
    {
      "cell_type": "code",
      "execution_count": null,
      "metadata": {
        "id": "fc929e1f"
      },
      "outputs": [],
      "source": [],
      "id": "fc929e1f"
    },
    {
      "cell_type": "code",
      "execution_count": null,
      "metadata": {
        "id": "16baa21a"
      },
      "outputs": [],
      "source": [],
      "id": "16baa21a"
    }
  ],
  "metadata": {
    "colab": {
      "collapsed_sections": [],
      "provenance": []
    },
    "kernelspec": {
      "display_name": "Python 3 (ipykernel)",
      "language": "python",
      "name": "python3"
    },
    "language_info": {
      "codemirror_mode": {
        "name": "ipython",
        "version": 3
      },
      "file_extension": ".py",
      "mimetype": "text/x-python",
      "name": "python",
      "nbconvert_exporter": "python",
      "pygments_lexer": "ipython3",
      "version": "3.10.4"
    }
  },
  "nbformat": 4,
  "nbformat_minor": 5
}